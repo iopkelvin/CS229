{
 "cells": [
  {
   "cell_type": "code",
   "execution_count": 15,
   "metadata": {},
   "outputs": [],
   "source": [
    "import numpy as np\n",
    "import matplotlib.pyplot as plt\n",
    "import util\n",
    "factor = 2.0"
   ]
  },
  {
   "cell_type": "code",
   "execution_count": 16,
   "metadata": {},
   "outputs": [],
   "source": [
    "def run_exp(train_path, sine=False, ks=[1, 2, 3, 5, 10, 20], filename='plot.png'):\n",
    "    train_x,train_y=util.load_dataset(train_path,add_intercept=True)\n",
    "    plot_x = np.ones([1000, 2])\n",
    "    plot_x[:, 1] = np.linspace(-factor*np.pi, factor*np.pi, 1000)\n",
    "    plt.figure()\n",
    "    plt.scatter(train_x[:, 1], train_y)\n",
    "    '''\n",
    "    for k in ks:\n",
    "    '''\n",
    "        #Our objective is to train models and perform predictions on plot_x data\n",
    "    '''\n",
    "        # *** START CODE HERE ***\n",
    "        # *** END CODE HERE ***\n",
    "    '''\n",
    "        #Here plot_y are the predictions of the linear model on the plot_x data\n",
    "    '''\n",
    "        plt.ylim(-2, 2)\n",
    "        plt.plot(plot_x[:, 1], plot_y, label='k=%d' % k)\n",
    "    '''\n",
    "    plt.legend()\n",
    "    plt.savefig(filename)\n",
    "    plt.clf()"
   ]
  },
  {
   "cell_type": "code",
   "execution_count": 19,
   "metadata": {},
   "outputs": [
    {
     "name": "stderr",
     "output_type": "stream",
     "text": [
      "No handles with labels found to put in legend.\n"
     ]
    },
    {
     "data": {
      "text/plain": [
       "<Figure size 432x288 with 0 Axes>"
      ]
     },
     "metadata": {},
     "output_type": "display_data"
    }
   ],
   "source": [
    "k = run_exp(\"train.csv\")"
   ]
  },
  {
   "cell_type": "code",
   "execution_count": 22,
   "metadata": {},
   "outputs": [],
   "source": [
    "k = np.arange(10)"
   ]
  },
  {
   "cell_type": "code",
   "execution_count": 23,
   "metadata": {},
   "outputs": [
    {
     "data": {
      "text/plain": [
       "array([0, 1, 2, 3, 4, 5, 6, 7, 8, 9])"
      ]
     },
     "execution_count": 23,
     "metadata": {},
     "output_type": "execute_result"
    }
   ],
   "source": [
    "k"
   ]
  },
  {
   "cell_type": "code",
   "execution_count": 32,
   "metadata": {},
   "outputs": [
    {
     "data": {
      "text/latex": [
       "$x \\mapsto \\color{LightGray}{\\text{0.0}} + \\text{1.0}\\,x + \\text{2.0}\\,x^{2} + \\text{3.0}\\,x^{3} + \\text{4.0}\\,x^{4} + \\text{5.0}\\,x^{5} + \\text{6.0}\\,x^{6} + \\text{7.0}\\,x^{7} + \\text{8.0}\\,x^{8} + \\text{9.0}\\,x^{9}$"
      ],
      "text/plain": [
       "Polynomial([0., 1., 2., 3., 4., 5., 6., 7., 8., 9.], domain=[-1,  1], window=[-1,  1])"
      ]
     },
     "execution_count": 32,
     "metadata": {},
     "output_type": "execute_result"
    }
   ],
   "source": [
    "np.polynomial.polynomial.Polynomial(k)"
   ]
  },
  {
   "cell_type": "code",
   "execution_count": null,
   "metadata": {},
   "outputs": [],
   "source": []
  }
 ],
 "metadata": {
  "kernelspec": {
   "display_name": "Python 3",
   "language": "python",
   "name": "python3"
  },
  "language_info": {
   "codemirror_mode": {
    "name": "ipython",
    "version": 3
   },
   "file_extension": ".py",
   "mimetype": "text/x-python",
   "name": "python",
   "nbconvert_exporter": "python",
   "pygments_lexer": "ipython3",
   "version": "3.7.3"
  }
 },
 "nbformat": 4,
 "nbformat_minor": 2
}
