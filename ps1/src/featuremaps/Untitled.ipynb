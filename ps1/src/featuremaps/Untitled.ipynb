{
 "cells": [
  {
   "cell_type": "code",
   "execution_count": 1,
   "metadata": {},
   "outputs": [],
   "source": [
    "import util\n",
    "import numpy as np\n",
    "import matplotlib.pyplot as plt"
   ]
  },
  {
   "cell_type": "code",
   "execution_count": 2,
   "metadata": {},
   "outputs": [],
   "source": [
    "train_x,train_y=util.load_dataset(\"train.csv\",add_intercept=True)"
   ]
  },
  {
   "cell_type": "code",
   "execution_count": 3,
   "metadata": {},
   "outputs": [
    {
     "data": {
      "text/plain": [
       "(70, 2)"
      ]
     },
     "execution_count": 3,
     "metadata": {},
     "output_type": "execute_result"
    }
   ],
   "source": [
    "train_x.shape"
   ]
  },
  {
   "cell_type": "code",
   "execution_count": 4,
   "metadata": {},
   "outputs": [
    {
     "data": {
      "text/plain": [
       "(70,)"
      ]
     },
     "execution_count": 4,
     "metadata": {},
     "output_type": "execute_result"
    }
   ],
   "source": [
    "train_y.shape"
   ]
  },
  {
   "cell_type": "code",
   "execution_count": 5,
   "metadata": {},
   "outputs": [],
   "source": [
    "k = 10"
   ]
  },
  {
   "cell_type": "code",
   "execution_count": 6,
   "metadata": {},
   "outputs": [],
   "source": [
    "matrix = np.zeros(shape=(train_x.shape[0], k+1))"
   ]
  },
  {
   "cell_type": "code",
   "execution_count": 7,
   "metadata": {},
   "outputs": [
    {
     "data": {
      "text/plain": [
       "(70, 2)"
      ]
     },
     "execution_count": 7,
     "metadata": {},
     "output_type": "execute_result"
    }
   ],
   "source": [
    "train_x.shape"
   ]
  },
  {
   "cell_type": "code",
   "execution_count": 14,
   "metadata": {},
   "outputs": [],
   "source": [
    "def fit(X, y):\n",
    "    theta = 0\n",
    "    xx = np.matmul(np.transpose(X), X)\n",
    "    inverse = np.linalg.inv(xx)\n",
    "\n",
    "    xty = np.matmul(np.transpose(X), y)\n",
    "    theta = np.matmul(inverse, xty)\n",
    "    print(theta)"
   ]
  },
  {
   "cell_type": "code",
   "execution_count": 26,
   "metadata": {},
   "outputs": [
    {
     "name": "stdout",
     "output_type": "stream",
     "text": [
      "[ 0.01404779 -0.07712656]\n"
     ]
    }
   ],
   "source": [
    "theta = fit(train_x, train_y)"
   ]
  },
  {
   "cell_type": "code",
   "execution_count": 69,
   "metadata": {},
   "outputs": [],
   "source": [
    "def create_poly(k, X):\n",
    "        \"\"\"\n",
    "        Generates a polynomial feature map using the data x.\n",
    "        The polynomial map should have powers from 0 to k\n",
    "        Output should be a numpy array whose shape is (n_examples, k+1)\n",
    "\n",
    "        Args:\n",
    "            X: Training example inputs. Shape (n_examples, 2).\n",
    "        \"\"\"\n",
    "        # *** START CODE HERE ***\n",
    "        n_examples = X.shape[0]\n",
    "        m_features = X.shape[1]\n",
    "        matrix = np.zeros(shape =(n_examples, k+1))\n",
    "\n",
    "        for i in range(len(X)):\n",
    "            value = X[i][1]\n",
    "            val = []\n",
    "            for poly in range(k+1):\n",
    "                val.append(value**poly)\n",
    "            matrix[i] = val\n",
    "        return matrix"
   ]
  },
  {
   "cell_type": "code",
   "execution_count": 70,
   "metadata": {},
   "outputs": [],
   "source": [
    "array = create_poly(2, train_x)"
   ]
  },
  {
   "cell_type": "code",
   "execution_count": 72,
   "metadata": {
    "scrolled": true
   },
   "outputs": [
    {
     "data": {
      "text/plain": [
       "array([[ 1.00000000e+00, -1.71359599e+00,  2.93641123e+00],\n",
       "       [ 1.00000000e+00,  5.77545316e+00,  3.33558592e+01],\n",
       "       [ 1.00000000e+00,  2.47519421e+00,  6.12658639e+00],\n",
       "       [ 1.00000000e+00,  3.10985939e+00,  9.67122545e+00],\n",
       "       [ 1.00000000e+00,  4.50612280e+00,  2.03051427e+01],\n",
       "       [ 1.00000000e+00, -4.75998887e+00,  2.26574940e+01],\n",
       "       [ 1.00000000e+00,  5.39465405e+00,  2.91022923e+01],\n",
       "       [ 1.00000000e+00, -5.52158709e+00,  3.04879240e+01],\n",
       "       [ 1.00000000e+00, -6.28318531e+00,  3.94784176e+01],\n",
       "       [ 1.00000000e+00, -2.72906028e+00,  7.44777004e+00],\n",
       "       [ 1.00000000e+00,  6.28318531e+00,  3.94784176e+01],\n",
       "       [ 1.00000000e+00, -2.09439510e+00,  4.38649084e+00],\n",
       "       [ 1.00000000e+00, -5.64852012e+00,  3.19057796e+01],\n",
       "       [ 1.00000000e+00, -5.39465405e+00,  2.91022923e+01],\n",
       "       [ 1.00000000e+00, -3.99839065e+00,  1.59871278e+01],\n",
       "       [ 1.00000000e+00,  6.34665183e-02,  4.02799894e-03],\n",
       "       [ 1.00000000e+00, -3.74452458e+00,  1.40214643e+01],\n",
       "       [ 1.00000000e+00,  6.02931923e+00,  3.63526904e+01],\n",
       "       [ 1.00000000e+00, -1.20586385e+00,  1.45410762e+00],\n",
       "       [ 1.00000000e+00,  3.17332591e-01,  1.00699973e-01],\n",
       "       [ 1.00000000e+00, -3.87145761e+00,  1.49881841e+01],\n",
       "       [ 1.00000000e+00, -6.15625227e+00,  3.78994420e+01],\n",
       "       [ 1.00000000e+00,  9.51997774e-01,  9.06299761e-01],\n",
       "       [ 1.00000000e+00, -5.26772102e+00,  2.77488847e+01],\n",
       "       [ 1.00000000e+00,  6.98131701e-01,  4.87387872e-01],\n",
       "       [ 1.00000000e+00, -3.36372547e+00,  1.13146490e+01],\n",
       "       [ 1.00000000e+00,  1.96746207e+00,  3.87090698e+00],\n",
       "       [ 1.00000000e+00, -1.84052903e+00,  3.38754711e+00],\n",
       "       [ 1.00000000e+00,  4.88692191e+00,  2.38820057e+01],\n",
       "       [ 1.00000000e+00, -6.98131701e-01,  4.87387872e-01],\n",
       "       [ 1.00000000e+00,  4.37918976e+00,  1.91773030e+01],\n",
       "       [ 1.00000000e+00,  2.22132814e+00,  4.93429870e+00],\n",
       "       [ 1.00000000e+00,  8.25064737e-01,  6.80731821e-01],\n",
       "       [ 1.00000000e+00, -2.98292636e+00,  8.89784966e+00],\n",
       "       [ 1.00000000e+00, -2.85599332e+00,  8.15669785e+00],\n",
       "       [ 1.00000000e+00, -2.60212725e+00,  6.77106622e+00],\n",
       "       [ 1.00000000e+00, -4.50612280e+00,  2.03051427e+01],\n",
       "       [ 1.00000000e+00, -5.90238620e+00,  3.48381628e+01],\n",
       "       [ 1.00000000e+00, -5.14078798e+00,  2.64277010e+01],\n",
       "       [ 1.00000000e+00, -9.51997774e-01,  9.06299761e-01],\n",
       "       [ 1.00000000e+00, -1.45972992e+00,  2.13081144e+00],\n",
       "       [ 1.00000000e+00,  1.07893081e+00,  1.16409169e+00],\n",
       "       [ 1.00000000e+00, -5.77545316e+00,  3.33558592e+01],\n",
       "       [ 1.00000000e+00,  1.20586385e+00,  1.45410762e+00],\n",
       "       [ 1.00000000e+00,  4.25225672e+00,  1.80816872e+01],\n",
       "       [ 1.00000000e+00,  6.15625227e+00,  3.78994420e+01],\n",
       "       [ 1.00000000e+00,  2.09439510e+00,  4.38649084e+00],\n",
       "       [ 1.00000000e+00,  3.36372547e+00,  1.13146490e+01],\n",
       "       [ 1.00000000e+00,  3.74452458e+00,  1.40214643e+01],\n",
       "       [ 1.00000000e+00,  1.58666296e+00,  2.51749934e+00],\n",
       "       [ 1.00000000e+00, -3.49065850e+00,  1.21846968e+01],\n",
       "       [ 1.00000000e+00,  5.90238620e+00,  3.48381628e+01],\n",
       "       [ 1.00000000e+00,  1.45972992e+00,  2.13081144e+00],\n",
       "       [ 1.00000000e+00, -1.58666296e+00,  2.51749934e+00],\n",
       "       [ 1.00000000e+00, -1.96746207e+00,  3.87090698e+00],\n",
       "       [ 1.00000000e+00,  5.64852012e+00,  3.19057796e+01],\n",
       "       [ 1.00000000e+00, -6.34665183e-02,  4.02799894e-03],\n",
       "       [ 1.00000000e+00,  1.71359599e+00,  2.93641123e+00],\n",
       "       [ 1.00000000e+00,  3.23679243e+00,  1.04768252e+01],\n",
       "       [ 1.00000000e+00,  3.61759154e+00,  1.30869686e+01],\n",
       "       [ 1.00000000e+00, -1.33279688e+00,  1.77634753e+00],\n",
       "       [ 1.00000000e+00,  2.85599332e+00,  8.15669785e+00],\n",
       "       [ 1.00000000e+00, -4.25225672e+00,  1.80816872e+01],\n",
       "       [ 1.00000000e+00,  5.26772102e+00,  2.77488847e+01],\n",
       "       [ 1.00000000e+00, -4.88692191e+00,  2.38820057e+01],\n",
       "       [ 1.00000000e+00, -1.07893081e+00,  1.16409169e+00],\n",
       "       [ 1.00000000e+00,  1.84052903e+00,  3.38754711e+00],\n",
       "       [ 1.00000000e+00, -4.63305583e+00,  2.14652063e+01],\n",
       "       [ 1.00000000e+00,  5.01385494e+00,  2.51387414e+01],\n",
       "       [ 1.00000000e+00, -2.47519421e+00,  6.12658639e+00]])"
      ]
     },
     "execution_count": 72,
     "metadata": {},
     "output_type": "execute_result"
    }
   ],
   "source": [
    "array"
   ]
  },
  {
   "cell_type": "code",
   "execution_count": 31,
   "metadata": {},
   "outputs": [
    {
     "name": "stdout",
     "output_type": "stream",
     "text": [
      "[ 0.0019507  -0.07711527  0.00084052]\n"
     ]
    }
   ],
   "source": [
    "fit(array, train_y)"
   ]
  },
  {
   "cell_type": "code",
   "execution_count": 32,
   "metadata": {},
   "outputs": [],
   "source": [
    "def predict(X):\n",
    "    arr = []\n",
    "    for row in X:\n",
    "        arr.append(np.dot(np.transpose(theta), row))\n",
    "    return arr"
   ]
  },
  {
   "cell_type": "code",
   "execution_count": 65,
   "metadata": {},
   "outputs": [],
   "source": [
    "def create_sin(k, X):\n",
    "        \"\"\"\n",
    "        Generates a sin with polynomial featuremap to the data x.\n",
    "        Output should be a numpy array whose shape is (n_examples, k+2)\n",
    "\n",
    "        Args:\n",
    "            X: Training example inputs. Shape (n_examples, 2).\n",
    "        \"\"\"\n",
    "        # *** START CODE HERE ***\n",
    "        n_examples = X.shape[0]\n",
    "        matrix = np.zeros(shape =(n_examples, k+2))\n",
    "\n",
    "        for i in range(len(X)):\n",
    "            value = X[i][1]\n",
    "            val = []\n",
    "            for poly in range(k+2):\n",
    "                val.append(value**poly)\n",
    "            #val = val.append(np.sin(value))\n",
    "            matrix[i] = val\n",
    "        for i in matrix[1]:\n",
    "            value = X[i][1]\n",
    "            matrix[i] = np.sin(value)\n",
    "        \n",
    "        return matrix"
   ]
  },
  {
   "cell_type": "code",
   "execution_count": 66,
   "metadata": {
    "scrolled": true
   },
   "outputs": [
    {
     "data": {
      "text/plain": [
       "-0.48619673610046876"
      ]
     },
     "execution_count": 66,
     "metadata": {},
     "output_type": "execute_result"
    }
   ],
   "source": [
    "np.sin(train_x[1][1])"
   ]
  },
  {
   "cell_type": "code",
   "execution_count": 68,
   "metadata": {},
   "outputs": [
    {
     "ename": "ValueError",
     "evalue": "cannot copy sequence with size 3 to array axis with dimension 4",
     "output_type": "error",
     "traceback": [
      "\u001b[0;31m---------------------------------------------------------------------------\u001b[0m",
      "\u001b[0;31mValueError\u001b[0m                                Traceback (most recent call last)",
      "\u001b[0;32m<ipython-input-68-f5b5ae8f1cfe>\u001b[0m in \u001b[0;36m<module>\u001b[0;34m\u001b[0m\n\u001b[0;32m----> 1\u001b[0;31m \u001b[0mcreate_sin\u001b[0m\u001b[0;34m(\u001b[0m\u001b[0;36m2\u001b[0m\u001b[0;34m,\u001b[0m \u001b[0mtrain_x\u001b[0m\u001b[0;34m)\u001b[0m\u001b[0;34m\u001b[0m\u001b[0;34m\u001b[0m\u001b[0m\n\u001b[0m",
      "\u001b[0;32m<ipython-input-65-47476ca20948>\u001b[0m in \u001b[0;36mcreate_sin\u001b[0;34m(k, X)\u001b[0m\n\u001b[1;32m     17\u001b[0m                 \u001b[0mval\u001b[0m\u001b[0;34m.\u001b[0m\u001b[0mappend\u001b[0m\u001b[0;34m(\u001b[0m\u001b[0mvalue\u001b[0m\u001b[0;34m**\u001b[0m\u001b[0mpoly\u001b[0m\u001b[0;34m)\u001b[0m\u001b[0;34m\u001b[0m\u001b[0;34m\u001b[0m\u001b[0m\n\u001b[1;32m     18\u001b[0m             \u001b[0;31m#val = val.append(np.sin(value))\u001b[0m\u001b[0;34m\u001b[0m\u001b[0;34m\u001b[0m\u001b[0;34m\u001b[0m\u001b[0m\n\u001b[0;32m---> 19\u001b[0;31m             \u001b[0mmatrix\u001b[0m\u001b[0;34m[\u001b[0m\u001b[0mi\u001b[0m\u001b[0;34m]\u001b[0m \u001b[0;34m=\u001b[0m \u001b[0mval\u001b[0m\u001b[0;34m\u001b[0m\u001b[0;34m\u001b[0m\u001b[0m\n\u001b[0m\u001b[1;32m     20\u001b[0m         \u001b[0;32mreturn\u001b[0m \u001b[0mmatrix\u001b[0m\u001b[0;34m\u001b[0m\u001b[0;34m\u001b[0m\u001b[0m\n",
      "\u001b[0;31mValueError\u001b[0m: cannot copy sequence with size 3 to array axis with dimension 4"
     ]
    }
   ],
   "source": [
    "create_sin(2, train_x)"
   ]
  },
  {
   "cell_type": "code",
   "execution_count": null,
   "metadata": {},
   "outputs": [],
   "source": []
  }
 ],
 "metadata": {
  "kernelspec": {
   "display_name": "Python 3",
   "language": "python",
   "name": "python3"
  },
  "language_info": {
   "codemirror_mode": {
    "name": "ipython",
    "version": 3
   },
   "file_extension": ".py",
   "mimetype": "text/x-python",
   "name": "python",
   "nbconvert_exporter": "python",
   "pygments_lexer": "ipython3",
   "version": "3.7.3"
  }
 },
 "nbformat": 4,
 "nbformat_minor": 2
}
