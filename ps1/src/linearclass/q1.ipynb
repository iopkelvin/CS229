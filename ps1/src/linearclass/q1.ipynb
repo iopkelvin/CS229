{
 "cells": [
  {
   "cell_type": "code",
   "execution_count": 1,
   "metadata": {},
   "outputs": [],
   "source": [
    "import pandas as pd\n",
    "import numpy as np\n",
    "import matplotlib.pyplot as plt\n",
    "import util"
   ]
  },
  {
   "cell_type": "code",
   "execution_count": 2,
   "metadata": {},
   "outputs": [],
   "source": [
    "ds1_train = pd.read_csv(\"ds1_train.csv\")\n",
    "ds2_train = pd.read_csv(\"ds2_train.csv\")\n",
    "ds1_val = pd.read_csv(\"ds1_valid.csv\")\n",
    "ds2_val = pd.read_csv(\"ds2_valid.csv\")"
   ]
  },
  {
   "cell_type": "code",
   "execution_count": 3,
   "metadata": {},
   "outputs": [],
   "source": [
    "xs1 = ds1_train[[\"x_1\", \"x_2\"]]\n",
    "xs2 = ds2_train[[\"x_1\", \"x_2\"]]\n",
    "ys1 = ds1_train[[\"y\"]]\n",
    "ys2 = ds2_train[[\"y\"]]\n",
    "valx1_1 = ds1_val[[\"x_1\"]]\n",
    "valx1_2 = ds1_val[[\"x_2\"]]"
   ]
  },
  {
   "cell_type": "code",
   "execution_count": 4,
   "metadata": {},
   "outputs": [
    {
     "data": {
      "text/plain": [
       "(800, 1)"
      ]
     },
     "execution_count": 4,
     "metadata": {},
     "output_type": "execute_result"
    }
   ],
   "source": [
    "ys1.shape"
   ]
  },
  {
   "cell_type": "code",
   "execution_count": 5,
   "metadata": {},
   "outputs": [],
   "source": [
    "x_train, y_train = util.load_dataset('ds1_train.csv', add_intercept=True)"
   ]
  },
  {
   "cell_type": "code",
   "execution_count": 6,
   "metadata": {},
   "outputs": [],
   "source": [
    "x_eval, y_eval = util.load_dataset('ds1_valid.csv', add_intercept=True)"
   ]
  },
  {
   "cell_type": "code",
   "execution_count": 7,
   "metadata": {},
   "outputs": [],
   "source": [
    "def sigmoid(x):\n",
    "    return 1/(1+np.exp(-x))\n",
    "def gradient(theta, x, y):\n",
    "    z = x.dot(theta) * y\n",
    "    g = -np.mean((1-sigmoid(z))*y*x.T, axis=1)\n",
    "    return g\n",
    "def hessian(theta, x, y):\n",
    "    hessian = np.zeros((x.shape[1], x.shape[1]))\n",
    "    z = y*x.dot(theta)\n",
    "    for i in range(hessian.shape[1]):\n",
    "        for j in range(hessian.shape[1]):\n",
    "            if i <= j:\n",
    "                hessian[i][j] = np.mean(sigmoid(z)*(1-sigmoid(z))*x[:,i]*x[:,j])\n",
    "                if i == j:\n",
    "                    hessian[j][i] = hessian[i][j]\n",
    "    return hessian\n"
   ]
  },
  {
   "cell_type": "code",
   "execution_count": 8,
   "metadata": {},
   "outputs": [],
   "source": [
    "thetazeros = np.zeros(x_train.shape[1])\n",
    "def newton(theta0, x,y, gradient, hessian):\n",
    "    theta = theta0\n",
    "    eps=1e-5\n",
    "    min = 1\n",
    "    while min > eps:\n",
    "        theta_prev = theta.copy()\n",
    "        theta -= np.linalg.inv(hessian(theta, x, y)).dot(gradient(theta, x, y))\n",
    "        min = np.linalg.norm(theta-theta_prev, ord=1)\n",
    "    return theta"
   ]
  },
  {
   "cell_type": "code",
   "execution_count": 9,
   "metadata": {},
   "outputs": [],
   "source": [
    "theta_final = newton(thetazeros, x_train, y_train, gradient, hessian)"
   ]
  },
  {
   "cell_type": "code",
   "execution_count": 19,
   "metadata": {
    "scrolled": false
   },
   "outputs": [
    {
     "data": {
      "text/plain": [
       "array([7.3653636 , 2.11422298, 1.64134245])"
      ]
     },
     "execution_count": 19,
     "metadata": {},
     "output_type": "execute_result"
    }
   ],
   "source": [
    "theta_final"
   ]
  },
  {
   "cell_type": "code",
   "execution_count": 11,
   "metadata": {},
   "outputs": [],
   "source": [
    "predictions = sigmoid(x_eval) "
   ]
  },
  {
   "cell_type": "code",
   "execution_count": 12,
   "metadata": {
    "collapsed": true
   },
   "outputs": [
    {
     "data": {
      "text/plain": [
       "array([[0.73105858, 0.42004114, 0.80847944],\n",
       "       [0.73105858, 0.8103262 , 0.90574405],\n",
       "       [0.73105858, 0.70081387, 0.70570567],\n",
       "       [0.73105858, 0.39530506, 0.62116139],\n",
       "       [0.73105858, 0.74645148, 0.9845142 ],\n",
       "       [0.73105858, 0.51709212, 0.97358196],\n",
       "       [0.73105858, 0.97941296, 1.        ],\n",
       "       [0.73105858, 0.6526665 , 0.66755682],\n",
       "       [0.73105858, 0.34497533, 0.51973077],\n",
       "       [0.73105858, 0.62979849, 0.98905834],\n",
       "       [0.73105858, 0.89937726, 0.99856308],\n",
       "       [0.73105858, 0.40500458, 0.60419202],\n",
       "       [0.73105858, 0.55398738, 0.99342658],\n",
       "       [0.73105858, 0.61884952, 0.79638815],\n",
       "       [0.73105858, 0.91652843, 0.99998102],\n",
       "       [0.73105858, 0.3747311 , 0.70443071],\n",
       "       [0.73105858, 0.64858964, 0.87225611],\n",
       "       [0.73105858, 0.76896389, 0.80189641],\n",
       "       [0.73105858, 0.92323693, 0.98806569],\n",
       "       [0.73105858, 0.56756254, 0.92330019],\n",
       "       [0.73105858, 0.61455572, 0.96941018],\n",
       "       [0.73105858, 0.31614299, 0.6696818 ],\n",
       "       [0.73105858, 0.67819318, 0.68713873],\n",
       "       [0.73105858, 0.79345544, 0.86349971],\n",
       "       [0.73105858, 0.50956298, 0.79847631],\n",
       "       [0.73105858, 0.72540702, 0.91173437],\n",
       "       [0.73105858, 0.67607348, 0.99533129],\n",
       "       [0.73105858, 0.27230785, 0.64705801],\n",
       "       [0.73105858, 0.25588183, 0.62656991],\n",
       "       [0.73105858, 0.54101806, 0.76730968],\n",
       "       [0.73105858, 0.31219341, 0.73932951],\n",
       "       [0.73105858, 0.46423624, 0.63815321],\n",
       "       [0.73105858, 0.30571116, 0.62236547],\n",
       "       [0.73105858, 0.66135441, 0.88404706],\n",
       "       [0.73105858, 0.89896753, 0.99180031],\n",
       "       [0.73105858, 0.77647584, 0.90245234],\n",
       "       [0.73105858, 0.40466073, 0.76337256],\n",
       "       [0.73105858, 0.8778965 , 0.72099961],\n",
       "       [0.73105858, 0.52881014, 0.60332711],\n",
       "       [0.73105858, 0.34865677, 0.59130796],\n",
       "       [0.73105858, 0.67603505, 0.88178058],\n",
       "       [0.73105858, 0.85796689, 0.73739406],\n",
       "       [0.73105858, 0.46298364, 0.61499531],\n",
       "       [0.73105858, 0.47650892, 0.74539955],\n",
       "       [0.73105858, 0.87558461, 0.99998725],\n",
       "       [0.73105858, 0.31719847, 0.61940888],\n",
       "       [0.73105858, 0.63166668, 0.71459921],\n",
       "       [0.73105858, 0.44349705, 0.76591125],\n",
       "       [0.73105858, 0.40357695, 0.73811941],\n",
       "       [0.73105858, 0.72357382, 0.74658004],\n",
       "       [0.73105858, 0.94677497, 1.        ],\n",
       "       [0.73105858, 0.65369859, 0.78859382],\n",
       "       [0.73105858, 0.92050192, 1.        ],\n",
       "       [0.73105858, 0.82606679, 0.80528431],\n",
       "       [0.73105858, 0.83019808, 0.99996562],\n",
       "       [0.73105858, 0.94897305, 0.9982048 ],\n",
       "       [0.73105858, 0.76165812, 0.99984829],\n",
       "       [0.73105858, 0.73483021, 0.99931099],\n",
       "       [0.73105858, 0.83763694, 0.99506232],\n",
       "       [0.73105858, 0.89683804, 0.99999697],\n",
       "       [0.73105858, 0.9005682 , 0.99902827],\n",
       "       [0.73105858, 0.85849127, 0.99988721],\n",
       "       [0.73105858, 0.59431992, 0.88966572],\n",
       "       [0.73105858, 0.93928834, 0.99839493],\n",
       "       [0.73105858, 0.91151682, 0.99999858],\n",
       "       [0.73105858, 0.89581589, 0.96448896],\n",
       "       [0.73105858, 0.88968814, 0.99942697],\n",
       "       [0.73105858, 0.9187412 , 1.        ],\n",
       "       [0.73105858, 0.77373507, 0.93293596],\n",
       "       [0.73105858, 0.90855958, 0.99999396],\n",
       "       [0.73105858, 0.96445101, 0.99998744],\n",
       "       [0.73105858, 0.72831088, 0.91971955],\n",
       "       [0.73105858, 0.84698093, 0.99170851],\n",
       "       [0.73105858, 0.80813136, 0.92747453],\n",
       "       [0.73105858, 0.88750058, 0.99891811],\n",
       "       [0.73105858, 0.93113476, 0.99999999],\n",
       "       [0.73105858, 0.92837101, 0.93557949],\n",
       "       [0.73105858, 0.84198349, 0.90740079],\n",
       "       [0.73105858, 0.95595954, 0.9999981 ],\n",
       "       [0.73105858, 0.69070892, 0.87583474],\n",
       "       [0.73105858, 0.57299768, 0.8618155 ],\n",
       "       [0.73105858, 0.98489389, 1.        ],\n",
       "       [0.73105858, 0.90046514, 0.99999949],\n",
       "       [0.73105858, 0.94027307, 0.99988133],\n",
       "       [0.73105858, 0.83133131, 0.96225828],\n",
       "       [0.73105858, 0.90999725, 0.99970411],\n",
       "       [0.73105858, 0.9048134 , 0.99777825],\n",
       "       [0.73105858, 0.85176187, 0.99314639],\n",
       "       [0.73105858, 0.87456266, 0.99792595],\n",
       "       [0.73105858, 0.96230128, 1.        ],\n",
       "       [0.73105858, 0.6849347 , 0.84812265],\n",
       "       [0.73105858, 0.82250242, 0.9991848 ],\n",
       "       [0.73105858, 0.80992165, 0.99916305],\n",
       "       [0.73105858, 0.83545143, 0.99984064],\n",
       "       [0.73105858, 0.87692898, 0.9997191 ],\n",
       "       [0.73105858, 0.85761473, 0.93165993],\n",
       "       [0.73105858, 0.87582563, 0.83663484],\n",
       "       [0.73105858, 0.86570719, 0.99724038],\n",
       "       [0.73105858, 0.94869475, 1.        ],\n",
       "       [0.73105858, 0.78913654, 0.94518959]])"
      ]
     },
     "execution_count": 12,
     "metadata": {},
     "output_type": "execute_result"
    }
   ],
   "source": [
    "predictions"
   ]
  },
  {
   "cell_type": "code",
   "execution_count": 17,
   "metadata": {},
   "outputs": [],
   "source": [
    "clf = LogisticRegression()\n",
    "parameters = clf.fit(x_train, y_train)"
   ]
  },
  {
   "cell_type": "code",
   "execution_count": 21,
   "metadata": {},
   "outputs": [],
   "source": [
    "predictions = clf.predict(x_eval)"
   ]
  },
  {
   "cell_type": "code",
   "execution_count": 22,
   "metadata": {
    "scrolled": false
   },
   "outputs": [
    {
     "data": {
      "image/png": "[encoded data removed]",
      "text/plain": [
       "<Figure size 432x288 with 1 Axes>"
      ]
     },
     "metadata": {
      "needs_background": "light"
     },
     "output_type": "display_data"
    }
   ],
   "source": [
    "util.plot(x_eval, y_eval, parameters, 'logreg_pred_1.jpg')\n"
   ]
  },
  {
   "cell_type": "code",
   "execution_count": 15,
   "metadata": {},
   "outputs": [],
   "source": [
    "class LogisticRegression:\n",
    "    \"\"\"Logistic regression with Newton's Method as the solver.\n",
    "\n",
    "    Example usage:\n",
    "        > clf = LogisticRegression()\n",
    "        > clf.fit(x_train, y_train)\n",
    "        > clf.predict(x_eval)\n",
    "    \"\"\"\n",
    "    def __init__(self, step_size=0.01, max_iter=10000, eps=1e-5,\n",
    "                 theta_0=None, verbose=True):\n",
    "        \"\"\"\n",
    "        Args:\n",
    "            step_size: Step size for iterative solvers only.\n",
    "            max_iter: Maximum number of iterations for the solver.\n",
    "            eps: Threshold for determining convergence.\n",
    "            theta_0: Initial guess for theta. If None, use the zero vector.\n",
    "            verbose: Print loss values during training.\n",
    "        \"\"\"\n",
    "        self.theta = theta_0\n",
    "        self.step_size = step_size\n",
    "        self.max_iter = max_iter\n",
    "        self.eps = eps\n",
    "        self.verbose = verbose\n",
    "\n",
    "    def fit(self, x, y):\n",
    "        \"\"\"Run Newton's Method to minimize J(theta) for logistic regression.\n",
    "\n",
    "        Args:\n",
    "            x: Training example inputs. Shape (n_examples, dim).\n",
    "            y: Training example labels. Shape (n_examples,).\n",
    "        \"\"\"\n",
    "        # *** START CODE HERE ***\n",
    "        def sigmoid(x):\n",
    "            return 1/(1+np.exp(-x))\n",
    "        def gradient(theta, x, y):\n",
    "            z = x.dot(theta) * y\n",
    "            g = -np.mean((1-sigmoid(z))*y*x.T, axis=1)\n",
    "            return g\n",
    "        def hessian(theta, x, y):\n",
    "            hessian = np.zeros((x.shape[1], x.shape[1]))\n",
    "            z = y*x.dot(theta)\n",
    "            for i in range(hessian.shape[1]):\n",
    "                for j in range(hessian.shape[1]):\n",
    "                    if i <= j:\n",
    "                        hessian[i][j] = np.mean(sigmoid(z)*(1-sigmoid(z))*x[:,i]*x[:,j])\n",
    "                        if i == j:\n",
    "                            hessian[j][i] = hessian[i][j]\n",
    "            return hessian\n",
    "        thetazeros = np.zeros(x.shape[1])\n",
    "        def newton(theta0, x,y, gradient, hessian):\n",
    "            theta = theta0\n",
    "            eps=1e-5\n",
    "            min = 1\n",
    "            while min > eps:\n",
    "                theta_prev = theta.copy()\n",
    "                theta -= np.linalg.inv(hessian(theta, x, y)).dot(gradient(theta, x, y))\n",
    "                min = np.linalg.norm(theta-theta_prev, ord=1)\n",
    "            return theta\n",
    "\n",
    "        theta_final = newton(thetazeros, x, y, gradient, hessian)\n",
    "        return theta_final\n",
    "\n",
    "\n",
    "        # *** END CODE HERE ***\n",
    "\n",
    "    def predict(self, x):\n",
    "        \"\"\"Make a prediction given new inputs x.\n",
    "\n",
    "        Args:\n",
    "            x: Inputs of shape (n_examples, dim).\n",
    "\n",
    "        Returns:\n",
    "            Outputs of shape (n_examples,).\n",
    "        \"\"\"\n",
    "        # *** START CODE HERE ***\n",
    "        def sigmoid(x):\n",
    "            return 1/(1+np.exp(-x))\n",
    "\n",
    "        prediction = sigmoid(x)\n",
    "        return prediction\n"
   ]
  },
  {
   "cell_type": "code",
   "execution_count": null,
   "metadata": {},
   "outputs": [],
   "source": []
  }
 ],
 "metadata": {
  "kernelspec": {
   "display_name": "Python 3",
   "language": "python",
   "name": "python3"
  },
  "language_info": {
   "codemirror_mode": {
    "name": "ipython",
    "version": 3
   },
   "file_extension": ".py",
   "mimetype": "text/x-python",
   "name": "python",
   "nbconvert_exporter": "python",
   "pygments_lexer": "ipython3",
   "version": "3.7.3"
  }
 },
 "nbformat": 4,
 "nbformat_minor": 2
}
